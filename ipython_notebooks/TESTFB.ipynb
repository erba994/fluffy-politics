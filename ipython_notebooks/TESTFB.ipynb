{
  "metadata": {
    "kernelspec": {
      "name": "python3",
      "display_name": "Python 3",
      "language": "python"
    },
    "creator": "admin",
    "createdOn": 1634026539876,
    "tags": [],
    "customFields": {},
    "hide_input": false,
    "language_info": {
      "name": "python",
      "version": "3.7.9",
      "mimetype": "text/x-python",
      "codemirror_mode": {
        "name": "ipython",
        "version": 3
      },
      "pygments_lexer": "ipython3",
      "nbconvert_exporter": "python",
      "file_extension": ".py"
    },
    "modifiedBy": "admin"
  },
  "nbformat": 4,
  "nbformat_minor": 1,
  "cells": [
    {
      "execution_count": 1,
      "cell_type": "code",
      "metadata": {},
      "source": [
        "%pylab inline"
      ],
      "outputs": [
        {
          "output_type": "stream",
          "text": "Populating the interactive namespace from numpy and matplotlib\n",
          "name": "stdout"
        }
      ]
    },
    {
      "execution_count": 2,
      "cell_type": "code",
      "metadata": {},
      "source": [
        "import dataiku\nfrom dataiku import pandasutils as pdu\nimport pandas as pd\nimport fbcrawl"
      ],
      "outputs": []
    },
    {
      "execution_count": 3,
      "cell_type": "code",
      "metadata": {},
      "source": [
        "%cd ..\n%cd ..\n%cd ..\n%cd ..\n%cd config/projects/POLITICAFB/lib/fbcrawler"
      ],
      "outputs": [
        {
          "output_type": "stream",
          "text": "/home/erba994/dataikudir/jupyter-run/dku-workdirs/POLITICAFB\n/home/erba994/dataikudir/jupyter-run/dku-workdirs\n/home/erba994/dataikudir/jupyter-run\n/home/erba994/dataikudir\n/home/erba994/dataikudir/config/projects/POLITICAFB/lib/fbcrawler\n",
          "name": "stdout"
        }
      ]
    },
    {
      "execution_count": 5,
      "cell_type": "code",
      "metadata": {},
      "source": [
        "!scrapy crawl events -a email\u003d\"lorenzotosi1206@gmail.com\" -a password\u003d\"Cycling1294\" -a lang\u003d\"en\" -a page\u003d\"http://mbasic.facebook.com/groups/675823305849812/\" -o \"pagnagna.csv\""
      ],
      "outputs": [
        {
          "output_type": "stream",
          "text": "Traceback (most recent call last):\r\n  File \"/home/erba994/.local/bin/scrapy\", line 8, in \u003cmodule\u003e\r\n    sys.exit(execute())\r\n  File \"/home/erba994/.local/lib/python3.9/site-packages/scrapy/cmdline.py\", line 144, in execute\r\n    cmd.crawler_process \u003d CrawlerProcess(settings)\r\n  File \"/home/erba994/.local/lib/python3.9/site-packages/scrapy/crawler.py\", line 280, in __init__\r\n    super().__init__(settings)\r\n  File \"/home/erba994/.local/lib/python3.9/site-packages/scrapy/crawler.py\", line 152, in __init__\r\n    self.spider_loader \u003d self._get_spider_loader(settings)\r\n  File \"/home/erba994/.local/lib/python3.9/site-packages/scrapy/crawler.py\", line 146, in _get_spider_loader\r\n    return loader_cls.from_settings(settings.frozencopy())\r\n  File \"/home/erba994/.local/lib/python3.9/site-packages/scrapy/spiderloader.py\", line 67, in from_settings\r\n    return cls(settings)\r\n  File \"/home/erba994/.local/lib/python3.9/site-packages/scrapy/spiderloader.py\", line 24, in __init__\r\n    self._load_all_spiders()\r\n  File \"/home/erba994/.local/lib/python3.9/site-packages/scrapy/spiderloader.py\", line 51, in _load_all_spiders\r\n    for module in walk_modules(name):\r\n  File \"/home/erba994/.local/lib/python3.9/site-packages/scrapy/utils/misc.py\", line 88, in walk_modules\r\n    submod \u003d import_module(fullpath)\r\n  File \"/usr/lib/python3.9/importlib/__init__.py\", line 127, in import_module\r\n    return _bootstrap._gcd_import(name[level:], package, level)\r\n  File \"\u003cfrozen importlib._bootstrap\u003e\", line 1030, in _gcd_import\r\n  File \"\u003cfrozen importlib._bootstrap\u003e\", line 1007, in _find_and_load\r\n  File \"\u003cfrozen importlib._bootstrap\u003e\", line 986, in _find_and_load_unlocked\r\n  File \"\u003cfrozen importlib._bootstrap\u003e\", line 680, in _load_unlocked\r\n  File \"\u003cfrozen importlib._bootstrap_external\u003e\", line 790, in exec_module\r\n  File \"\u003cfrozen importlib._bootstrap\u003e\", line 228, in _call_with_frames_removed\r\n  File \"/home/erba994/dataikudir/config/projects/POLITICAFB/lib/fbcrawler/fbcrawl/spiders/comments.py\", line 8, in \u003cmodule\u003e\r\n    from fbcrawl.spiders.fbcrawl import FacebookSpider\r\n  File \"/home/erba994/dataikudir/config/projects/POLITICAFB/lib/fbcrawler/fbcrawl/spiders/fbcrawl.py\", line 16\r\n    \u003d\u003d\u003d\u003d\u003d\u003d\u003d\r\n    ^\r\nSyntaxError: invalid syntax\r\n",
          "name": "stdout"
        }
      ]
    },
    {
      "cell_type": "markdown",
      "metadata": {},
      "source": [
        "import scrapy\nfrom scrapy.crawler import CrawlerProcess\n\nclass MySpider(scrapy.Spider):\n    ...\n\nprocess \u003d CrawlerProcess({\n    \u0027USER_AGENT\u0027: \u0027Mozilla/4.0 (compatible; MSIE 7.0; Windows NT 5.1)\u0027\n})\n\nprocess.crawl(MySpider)\nprocess.start() # the script will block here until the crawling is finished"
      ]
    }
  ]
}