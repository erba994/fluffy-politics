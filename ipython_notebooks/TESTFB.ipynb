{
  "metadata": {
    "kernelspec": {
      "name": "python3",
      "display_name": "Python 3",
      "language": "python"
    },
    "creator": "admin",
    "createdOn": 1634026539876,
    "tags": [],
    "customFields": {},
    "hide_input": false,
    "language_info": {
      "name": "python",
      "version": "3.7.9",
      "mimetype": "text/x-python",
      "codemirror_mode": {
        "name": "ipython",
        "version": 3
      },
      "pygments_lexer": "ipython3",
      "nbconvert_exporter": "python",
      "file_extension": ".py"
    },
    "modifiedBy": "admin"
  },
  "nbformat": 4,
  "nbformat_minor": 1,
  "cells": [
    {
      "execution_count": 1,
      "cell_type": "code",
      "metadata": {},
      "source": [
        "%pylab inline"
      ],
      "outputs": [
        {
          "output_type": "stream",
          "text": "Populating the interactive namespace from numpy and matplotlib\n",
          "name": "stdout"
        }
      ]
    },
    {
      "execution_count": 2,
      "cell_type": "code",
      "metadata": {},
      "source": [
        "import dataiku\nfrom dataiku import pandasutils as pdu\nimport pandas as pd"
      ],
      "outputs": []
    },
    {
      "execution_count": 6,
      "cell_type": "code",
      "metadata": {},
      "source": [
        "%cd ..\n%cd fbcrawl-master\n!ls"
      ],
      "outputs": [
        {
          "output_type": "stream",
          "text": "/home/erba994/dataikudir/jupyter-run/dku-workdirs/POLITICAFB\nfacebook-post-scraper  fbcrawl-master  TESTFB3f97ca69\n",
          "name": "stdout"
        }
      ]
    },
    {
      "execution_count": 13,
      "cell_type": "code",
      "metadata": {},
      "source": [
        "!scrapy crawl events -a email\u003d\"lorenzotosi1206@gmail.com\" -a password\u003d\"Cycling1294\" -a page\u003d\"\" -o \"$OLD/$FOLDER/$DAY/facebook/$TIME_$1.csv\""
      ],
      "outputs": [
        {
          "output_type": "stream",
          "text": "Usage\r\n\u003d\u003d\u003d\u003d\u003d\r\n  scrapy crawl [options] \u003cspider\u003e\r\n\r\ncrawl: error: Unrecognized output format \u0027\u0027. Set a supported one ((\u0027json\u0027, \u0027jsonlines\u0027, \u0027jl\u0027, \u0027csv\u0027, \u0027xml\u0027, \u0027marshal\u0027, \u0027pickle\u0027)) after a colon at the end of the output URI (i.e. -o/-O \u003cURI\u003e:\u003cFORMAT\u003e) or as a file extension.\r\n",
          "name": "stdout"
        }
      ]
    },
    {
      "execution_count": 0,
      "cell_type": "code",
      "metadata": {},
      "source": [
        "from twisted.internet import reactor\nimport scrapy\nfrom scrapy.crawler import CrawlerRunner\nfrom scrapy.utils.log import configure_logging\n\nconfigure_logging({\u0027LOG_FORMAT\u0027: \u0027%(levelname)s: %(message)s\u0027})\nrunner \u003d CrawlerRunner()\n\nd \u003d runner.crawl(MySpider)\nd.addBoth(lambda _: reactor.stop())\nreactor.run() # the script will block here until the crawling is finished\nSee also"
      ],
      "outputs": []
    }
  ]
}