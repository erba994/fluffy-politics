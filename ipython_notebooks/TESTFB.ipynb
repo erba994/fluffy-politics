{
  "metadata": {
    "kernelspec": {
      "name": "python3",
      "display_name": "Python 3",
      "language": "python"
    },
    "creator": "admin",
    "createdOn": 1634026539876,
    "tags": [],
    "customFields": {},
    "hide_input": false,
    "language_info": {
      "name": "python",
      "version": "3.7.9",
      "mimetype": "text/x-python",
      "codemirror_mode": {
        "name": "ipython",
        "version": 3
      },
      "pygments_lexer": "ipython3",
      "nbconvert_exporter": "python",
      "file_extension": ".py"
    },
    "modifiedBy": "admin"
  },
  "nbformat": 4,
  "nbformat_minor": 1,
  "cells": [
    {
      "execution_count": 1,
      "cell_type": "code",
      "metadata": {},
      "source": [
        "%pylab inline"
      ],
      "outputs": [
        {
          "output_type": "stream",
          "text": "Populating the interactive namespace from numpy and matplotlib\n",
          "name": "stdout"
        }
      ]
    },
    {
      "execution_count": 7,
      "cell_type": "code",
      "metadata": {},
      "source": [
        "import dataiku\nfrom dataiku import pandasutils as pdu\nimport pandas as pd\nimport fbcrawl"
      ],
      "outputs": []
    },
    {
      "execution_count": 4,
      "cell_type": "code",
      "metadata": {},
      "source": [
        "!scrapy"
      ],
      "outputs": [
        {
          "output_type": "stream",
          "text": "Scrapy 2.5.1 - no active project\r\n\r\nUsage:\r\n  scrapy \u003ccommand\u003e [options] [args]\r\n\r\nAvailable commands:\r\n  bench         Run quick benchmark test\r\n  commands      \r\n  fetch         Fetch a URL using the Scrapy downloader\r\n  genspider     Generate new spider using pre-defined templates\r\n  runspider     Run a self-contained spider (without creating a project)\r\n  settings      Get settings values\r\n  shell         Interactive scraping console\r\n  startproject  Create new project\r\n  version       Print Scrapy version\r\n  view          Open URL in browser, as seen by Scrapy\r\n\r\n  [ more ]      More commands available when run from project directory\r\n\r\nUse \"scrapy \u003ccommand\u003e -h\" to see more info about a command\r\n",
          "name": "stdout"
        }
      ]
    },
    {
      "execution_count": 3,
      "cell_type": "code",
      "metadata": {},
      "source": [
        "!scrapy crawl events -a email\u003d\"lorenzotosi1206@gmail.com\" -a password\u003d\"Cycling1294\" -a lang\u003d\"en\" -a page\u003d\"http://mbasic.facebook.com/groups/675823305849812/\" -o \"pagnagna.csv\""
      ],
      "outputs": [
        {
          "output_type": "stream",
          "text": "Scrapy 2.5.1 - no active project\r\n\r\nUnknown command: crawl\r\n\r\nUse \"scrapy\" to see available commands\r\n",
          "name": "stdout"
        }
      ]
    },
    {
      "cell_type": "markdown",
      "metadata": {
        "trusted": true
      },
      "source": [
        "import scrapy\nfrom scrapy.crawler import CrawlerProcess\n\nclass MySpider(scrapy.Spider):\n    ...\n\nprocess \u003d CrawlerProcess({\n    \u0027USER_AGENT\u0027: \u0027Mozilla/4.0 (compatible; MSIE 7.0; Windows NT 5.1)\u0027\n})\n\nprocess.crawl(MySpider)\nprocess.start() # the script will block here until the crawling is finished"
      ]
    }
  ]
}